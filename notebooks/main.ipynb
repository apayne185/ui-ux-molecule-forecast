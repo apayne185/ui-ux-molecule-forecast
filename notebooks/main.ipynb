{
 "cells": [
  {
   "cell_type": "markdown",
   "metadata": {},
   "source": [
    "# Forecasting Molecule"
   ]
  },
  {
   "cell_type": "code",
   "execution_count": 15,
   "metadata": {},
   "outputs": [
    {
     "name": "stdout",
     "output_type": "stream",
     "text": [
      "Requirement already satisfied: pandas in c:\\users\\annap\\appdata\\local\\programs\\python\\python312\\lib\\site-packages (2.2.3)\n",
      "Requirement already satisfied: numpy>=1.26.0 in c:\\users\\annap\\appdata\\local\\programs\\python\\python312\\lib\\site-packages (from pandas) (1.26.2)\n",
      "Requirement already satisfied: python-dateutil>=2.8.2 in c:\\users\\annap\\appdata\\local\\programs\\python\\python312\\lib\\site-packages (from pandas) (2.8.2)\n",
      "Requirement already satisfied: pytz>=2020.1 in c:\\users\\annap\\appdata\\local\\programs\\python\\python312\\lib\\site-packages (from pandas) (2023.3.post1)\n",
      "Requirement already satisfied: tzdata>=2022.7 in c:\\users\\annap\\appdata\\local\\programs\\python\\python312\\lib\\site-packages (from pandas) (2023.3)\n",
      "Requirement already satisfied: six>=1.5 in c:\\users\\annap\\appdata\\local\\programs\\python\\python312\\lib\\site-packages (from python-dateutil>=2.8.2->pandas) (1.16.0)\n",
      "Note: you may need to restart the kernel to use updated packages.\n"
     ]
    },
    {
     "name": "stderr",
     "output_type": "stream",
     "text": [
      "\n",
      "[notice] A new release of pip is available: 24.3.1 -> 25.0.1\n",
      "[notice] To update, run: python.exe -m pip install --upgrade pip\n"
     ]
    }
   ],
   "source": [
    "pip install --upgrade pandas"
   ]
  },
  {
   "cell_type": "code",
   "execution_count": 1,
   "metadata": {},
   "outputs": [],
   "source": [
    "import pandas as pd\n",
    "import numpy as np \n",
    "import matplotlib.pyplot as plt \n",
    "import seaborn as sns\n",
    "from sklearn.model_selection import train_test_split, GridSearchCV\n",
    "from sklearn.preprocessing import OneHotEncoder\n",
    "from sklearn.ensemble import RandomForestRegressor\n",
    "from sklearn.metrics import mean_squared_error\n",
    "import xgboost as xgb\n",
    "from sklearn.model_selection import TimeSeriesSplit\n",
    "from sklearn.preprocessing import StandardScaler\n"
   ]
  },
  {
   "cell_type": "markdown",
   "metadata": {},
   "source": [
    "## Preprocessing"
   ]
  },
  {
   "cell_type": "code",
   "execution_count": 2,
   "metadata": {},
   "outputs": [
    {
     "data": {
      "text/html": [
       "<div>\n",
       "<style scoped>\n",
       "    .dataframe tbody tr th:only-of-type {\n",
       "        vertical-align: middle;\n",
       "    }\n",
       "\n",
       "    .dataframe tbody tr th {\n",
       "        vertical-align: top;\n",
       "    }\n",
       "\n",
       "    .dataframe thead th {\n",
       "        text-align: right;\n",
       "    }\n",
       "</style>\n",
       "<table border=\"1\" class=\"dataframe\">\n",
       "  <thead>\n",
       "    <tr style=\"text-align: right;\">\n",
       "      <th></th>\n",
       "      <th>Record ID</th>\n",
       "      <th>year</th>\n",
       "      <th>month</th>\n",
       "      <th>MoleculeName</th>\n",
       "      <th>TradeName</th>\n",
       "      <th>ProductName</th>\n",
       "      <th>Packs</th>\n",
       "      <th>Value</th>\n",
       "    </tr>\n",
       "  </thead>\n",
       "  <tbody>\n",
       "    <tr>\n",
       "      <th>0</th>\n",
       "      <td>1</td>\n",
       "      <td>2017</td>\n",
       "      <td>12</td>\n",
       "      <td>molecule1</td>\n",
       "      <td>brand1</td>\n",
       "      <td>SKU1</td>\n",
       "      <td>2966.0</td>\n",
       "      <td>32504.671461</td>\n",
       "    </tr>\n",
       "    <tr>\n",
       "      <th>1</th>\n",
       "      <td>2</td>\n",
       "      <td>2017</td>\n",
       "      <td>12</td>\n",
       "      <td>molecule2</td>\n",
       "      <td>brand2</td>\n",
       "      <td>SKU2</td>\n",
       "      <td>7675.0</td>\n",
       "      <td>5627.328111</td>\n",
       "    </tr>\n",
       "    <tr>\n",
       "      <th>2</th>\n",
       "      <td>3</td>\n",
       "      <td>2017</td>\n",
       "      <td>12</td>\n",
       "      <td>molecule2</td>\n",
       "      <td>brand2</td>\n",
       "      <td>SKU3</td>\n",
       "      <td>24404.0</td>\n",
       "      <td>10741.583225</td>\n",
       "    </tr>\n",
       "    <tr>\n",
       "      <th>3</th>\n",
       "      <td>4</td>\n",
       "      <td>2017</td>\n",
       "      <td>12</td>\n",
       "      <td>molecule3</td>\n",
       "      <td>brand3</td>\n",
       "      <td>SKU4</td>\n",
       "      <td>14775.0</td>\n",
       "      <td>65098.087341</td>\n",
       "    </tr>\n",
       "    <tr>\n",
       "      <th>4</th>\n",
       "      <td>5</td>\n",
       "      <td>2017</td>\n",
       "      <td>12</td>\n",
       "      <td>molecule3</td>\n",
       "      <td>brand3</td>\n",
       "      <td>SKU5</td>\n",
       "      <td>18206.0</td>\n",
       "      <td>61614.771981</td>\n",
       "    </tr>\n",
       "  </tbody>\n",
       "</table>\n",
       "</div>"
      ],
      "text/plain": [
       "   Record ID  year  month MoleculeName TradeName ProductName    Packs  \\\n",
       "0          1  2017     12    molecule1    brand1        SKU1   2966.0   \n",
       "1          2  2017     12    molecule2    brand2        SKU2   7675.0   \n",
       "2          3  2017     12    molecule2    brand2        SKU3  24404.0   \n",
       "3          4  2017     12    molecule3    brand3        SKU4  14775.0   \n",
       "4          5  2017     12    molecule3    brand3        SKU5  18206.0   \n",
       "\n",
       "          Value  \n",
       "0  32504.671461  \n",
       "1   5627.328111  \n",
       "2  10741.583225  \n",
       "3  65098.087341  \n",
       "4  61614.771981  "
      ]
     },
     "execution_count": 2,
     "metadata": {},
     "output_type": "execute_result"
    }
   ],
   "source": [
    "df = pd.read_excel('../test_data_working_students.xlsx')\n",
    "df.head()"
   ]
  },
  {
   "cell_type": "code",
   "execution_count": null,
   "metadata": {},
   "outputs": [
    {
     "name": "stderr",
     "output_type": "stream",
     "text": [
      "c:\\Users\\annap\\AppData\\Local\\Programs\\Python\\Python312\\Lib\\site-packages\\sklearn\\preprocessing\\_encoders.py:975: FutureWarning: `sparse` was renamed to `sparse_output` in version 1.2 and will be removed in 1.4. `sparse_output` is ignored unless you leave `sparse` to its default value.\n",
      "  warnings.warn(\n"
     ]
    }
   ],
   "source": [
    "df['date'] = pd.to_datetime(df[['year', 'month']].assign(day=1))\n",
    "# df.set_index('date', inplace=True)\n",
    "\n",
    "# df_monthly = df.groupby([df.index])['Value'].sum()\n",
    "\n",
    "df['month_of_year'] = df['month']     \n",
    "df['quarter'] = df['date'].dt.quarter  \n",
    "df['week_of_year'] = df['date'].dt.isocalendar().week  \n",
    "\n",
    "\n",
    "df['Value_Lag1']= df.groupby(['MoleculeName', 'TradeName', 'ProductName'])['Value'].shift(1)\n",
    "df['Packs_Lag1']= df.groupby(['MoleculeName', 'TradeName', 'ProductName'])['Packs'].shift(1)     \n",
    "  \n",
    "df['Value_Rolling_3'] = df.groupby(['MoleculeName', 'TradeName', 'ProductName'])['Value'].transform(lambda x: x.rolling(3).mean()) \n",
    "df['Packs_Rolling_3'] = df.groupby(['MoleculeName', 'TradeName', 'ProductName'])['Packs'].transform(lambda x: x.rolling(3).mean())   \n",
    "df['Value_Rolling_6'] = df.groupby(['MoleculeName', 'TradeName', 'ProductName'])['Value'].transform(lambda x: x.rolling(6).mean()) \n",
    "df['Packs_Rolling_6'] = df.groupby(['MoleculeName', 'TradeName', 'ProductName'])['Packs'].transform(lambda x: x.rolling(6).mean())    \n",
    "\n",
    "#drop the nan values from lags/rolling transformations\n",
    "df.dropna(subset=['Value_Lag1', 'Packs_Lag1', 'Value_Rolling_3', 'Packs_Rolling_3', 'Value_Rolling_6', 'Packs_Rolling_6'], inplace=True)   \n",
    "\n",
    " \n",
    "encoder= OneHotEncoder(sparse=False)\n",
    "encoded_features = encoder.fit_transform(df[['MoleculeName', 'TradeName', 'ProductName']])\n",
    "df = df.reset_index(drop=True)\n",
    "encoded_df = pd.DataFrame(encoded_features, columns=encoder.get_feature_names_out(['MoleculeName', 'TradeName', 'ProductName']))\n",
    "df= pd.concat([df, encoded_df], axis=1)   \n",
    "\n"
   ]
  },
  {
   "cell_type": "code",
   "execution_count": 19,
   "metadata": {},
   "outputs": [],
   "source": [
    "target_value = 'Value'\n",
    "target_packs = 'Packs'  \n",
    "\n",
    "features = ['year', 'month','month_of_year','quarter', 'week_of_year', 'Value_Lag1','Packs_Lag1','Value_Rolling_3', 'Packs_Rolling_3', 'Value_Rolling_6','Packs_Rolling_6'] + list(encoded_df.columns)   \n",
    "\n",
    "X= df[features]   \n",
    "y_value = df[target_value]  \n",
    "y_packs = df[target_packs]        \n",
    "\n",
    "tscv = TimeSeriesSplit(n_splits=5) \n",
    "\n",
    "scaler = StandardScaler()\n"
   ]
  },
  {
   "cell_type": "markdown",
   "metadata": {},
   "source": [
    "## Models"
   ]
  },
  {
   "cell_type": "code",
   "execution_count": 20,
   "metadata": {},
   "outputs": [],
   "source": [
    "def evaluate_model(model, X, y, tscv, param_grid=None):\n",
    "    mse_scores = []   \n",
    "    for train_idx, test_idx in tscv.split(X):\n",
    "        X_train, X_test= X.iloc[train_idx], X.iloc[test_idx] \n",
    "        y_train, y_test= y.iloc[train_idx], y.iloc[test_idx] \n",
    "\n",
    "        X_train_scaled = scaler.fit_transform(X_train)\n",
    "        X_test_scaled = scaler.transform(X_test)\n",
    "\n",
    "        print(f\"Training set size: {X_train_scaled.shape},  Test set size: {X_test_scaled.shape}\")\n",
    "\n",
    "\n",
    "        # X_train = X_train.values\n",
    "        # X_test = X_test.values\n",
    "        # X.columns = X.columns.astype(str)\n",
    "\n",
    "        # print(f\"Training set size: {X_train.shape},  Test set size: {X_test.shape}\")\n",
    "\n",
    "        if param_grid is not None: \n",
    "            grid_search = GridSearchCV(estimator=model, param_grid=param_grid, cv=3, n_jobs=-1, scoring='neg_mean_squared_error')\n",
    "            grid_search.fit(X_train_scaled, y_train)\n",
    "            best_model = grid_search.best_estimator_\n",
    "            print(f\"Best parameters: {grid_search.best_params_}\")\n",
    "        else:\n",
    "            best_model=model \n",
    "            best_model.fit(X_train_scaled, y_train)\n",
    "            \n",
    "        y_pred = best_model.predict(X_test_scaled)\n",
    "        mse = mean_squared_error(y_test, y_pred) \n",
    "        mse_scores.append(mse)  \n",
    "    \n",
    "    mean_mse = np.mean(mse_scores)    \n",
    "    print(f'Mean MSE:  {mean_mse}')  \n",
    "    return np.mean(mse_scores)     \n"
   ]
  },
  {
   "cell_type": "markdown",
   "metadata": {},
   "source": [
    "### XGBoost"
   ]
  },
  {
   "cell_type": "code",
   "execution_count": null,
   "metadata": {},
   "outputs": [
    {
     "name": "stderr",
     "output_type": "stream",
     "text": [
      "C:\\Users\\annap\\AppData\\Local\\Temp\\ipykernel_7320\\2410781237.py:1: SettingWithCopyWarning: \n",
      "A value is trying to be set on a copy of a slice from a DataFrame.\n",
      "Try using .loc[row_indexer,col_indexer] = value instead\n",
      "\n",
      "See the caveats in the documentation: https://pandas.pydata.org/pandas-docs/stable/user_guide/indexing.html#returning-a-view-versus-a-copy\n",
      "  X['week_of_year'] = X['week_of_year'].astype('int32')\n"
     ]
    }
   ],
   "source": [
    "X['week_of_year'] = X['week_of_year'].astype('int32')\n",
    "X = X.astype({col: 'int32' for col in X.select_dtypes(include='Int64').columns})\n",
    "\n",
    "# print(X.dtypes)\n",
    "# print(X.isnull().sum()) \n",
    "X.fillna(0, inplace=True)\n",
    "\n",
    "non_numeric_cols = X.select_dtypes(exclude=['number']).columns\n",
    "# print(\"Non-numeric columns:\", non_numeric_cols)\n",
    "\n",
    "param_grid_xgboost = {\n",
    "    'n_estimators': [100, 200],\n",
    "    'learning_rate': [0.01, 0.1, 0.2],\n",
    "    'max_depth': [3, 5, 7],\n",
    "    'subsample': [0.8, 1.0]\n",
    "}\n",
    "\n"
   ]
  },
  {
   "cell_type": "code",
   "execution_count": null,
   "metadata": {},
   "outputs": [
    {
     "name": "stdout",
     "output_type": "stream",
     "text": [
      "Training set size: (586, 247),  Test set size: (581, 247)\n",
      "Best parameters: {'learning_rate': 0.2, 'max_depth': 3, 'n_estimators': 100, 'subsample': 1.0}\n",
      "Training set size: (1167, 247),  Test set size: (581, 247)\n",
      "Best parameters: {'learning_rate': 0.2, 'max_depth': 3, 'n_estimators': 200, 'subsample': 0.8}\n",
      "Training set size: (1748, 247),  Test set size: (581, 247)\n",
      "Best parameters: {'learning_rate': 0.2, 'max_depth': 3, 'n_estimators': 100, 'subsample': 0.8}\n",
      "Training set size: (2329, 247),  Test set size: (581, 247)\n",
      "Best parameters: {'learning_rate': 0.1, 'max_depth': 5, 'n_estimators': 100, 'subsample': 0.8}\n",
      "Training set size: (2910, 247),  Test set size: (581, 247)\n",
      "Best parameters: {'learning_rate': 0.1, 'max_depth': 3, 'n_estimators': 200, 'subsample': 0.8}\n",
      "Mean MSE:  5967113781.638832\n",
      "XGBoost MSE for Value: 5967113781.638832\n"
     ]
    }
   ],
   "source": [
    "xg_reg_value = xgb.XGBRegressor(objective='reg:squarederror', n_estimators=100, learning_rate=0.1, enable_categorical=False)\n",
    "xgboost_mse_value = evaluate_model(xg_reg_value, X, y_value, tscv, param_grid_xgboost)\n",
    "print(f'XGBoost MSE for Value: {xgboost_mse_value}')"
   ]
  },
  {
   "cell_type": "markdown",
   "metadata": {},
   "source": [
    "Training set size: (586, 247),  Test set size: (581, 247)\n",
    "Training set size: (1167, 247),  Test set size: (581, 247)\n",
    "Training set size: (1748, 247),  Test set size: (581, 247)\n",
    "Training set size: (2329, 247),  Test set size: (581, 247)\n",
    "Training set size: (2910, 247),  Test set size: (581, 247)\n",
    "Mean MSE:  5523031509.515505\n",
    "XGBoost MSE for Value: 5523031509.515505      --> since this is so big, lets normalize the features"
   ]
  },
  {
   "cell_type": "markdown",
   "metadata": {},
   "source": [
    "### Random Forest"
   ]
  },
  {
   "cell_type": "code",
   "execution_count": 28,
   "metadata": {},
   "outputs": [],
   "source": [
    "param_grid_rf = {\n",
    "    'n_estimators': [100, 200],\n",
    "    'max_depth': [None, 3, 5, 7, 10],\n",
    "    'min_samples_split': [2, 5, 10],\n",
    "    'min_samples_leaf': [1, 2, 4],\n",
    "    'max_features': ['sqrt', 'log2']\n",
    "}"
   ]
  },
  {
   "cell_type": "code",
   "execution_count": 29,
   "metadata": {},
   "outputs": [
    {
     "name": "stdout",
     "output_type": "stream",
     "text": [
      "Training set size: (586, 247),  Test set size: (581, 247)\n",
      "Best parameters: {'max_depth': None, 'max_features': 'sqrt', 'min_samples_leaf': 1, 'min_samples_split': 2, 'n_estimators': 200}\n",
      "Training set size: (1167, 247),  Test set size: (581, 247)\n",
      "Best parameters: {'max_depth': None, 'max_features': 'sqrt', 'min_samples_leaf': 1, 'min_samples_split': 2, 'n_estimators': 200}\n",
      "Training set size: (1748, 247),  Test set size: (581, 247)\n",
      "Best parameters: {'max_depth': None, 'max_features': 'sqrt', 'min_samples_leaf': 1, 'min_samples_split': 5, 'n_estimators': 200}\n",
      "Training set size: (2329, 247),  Test set size: (581, 247)\n",
      "Best parameters: {'max_depth': None, 'max_features': 'sqrt', 'min_samples_leaf': 1, 'min_samples_split': 2, 'n_estimators': 200}\n",
      "Training set size: (2910, 247),  Test set size: (581, 247)\n",
      "Best parameters: {'max_depth': None, 'max_features': 'sqrt', 'min_samples_leaf': 1, 'min_samples_split': 5, 'n_estimators': 200}\n",
      "Mean MSE:  141525351.4597588\n",
      "Random Forest MSE for Packs: 141525351.4597588\n"
     ]
    }
   ],
   "source": [
    "rf_reg_packs = RandomForestRegressor(n_estimators=100)\n",
    "rf_mse_packs = evaluate_model(rf_reg_packs, X, y_packs, tscv, param_grid_rf)\n",
    "print(f'Random Forest MSE for Packs: {rf_mse_packs}')"
   ]
  }
 ],
 "metadata": {
  "kernelspec": {
   "display_name": "Python 3",
   "language": "python",
   "name": "python3"
  },
  "language_info": {
   "codemirror_mode": {
    "name": "ipython",
    "version": 3
   },
   "file_extension": ".py",
   "mimetype": "text/x-python",
   "name": "python",
   "nbconvert_exporter": "python",
   "pygments_lexer": "ipython3",
   "version": "3.12.0"
  }
 },
 "nbformat": 4,
 "nbformat_minor": 2
}
